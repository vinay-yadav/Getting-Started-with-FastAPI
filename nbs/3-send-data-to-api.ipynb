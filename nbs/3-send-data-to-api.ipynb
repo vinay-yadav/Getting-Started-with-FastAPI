{
 "cells": [
  {
   "metadata": {
    "ExecuteTime": {
     "end_time": "2025-04-11T12:26:47.539995Z",
     "start_time": "2025-04-11T12:26:46.915760Z"
    }
   },
   "cell_type": "code",
   "source": [
    "import requests\n",
    "\n",
    "baseurl = \"http://localhost:8002\""
   ],
   "id": "8b8757dbd3f6caa2",
   "outputs": [],
   "execution_count": 1
  },
  {
   "metadata": {
    "ExecuteTime": {
     "end_time": "2025-04-11T12:26:47.593627Z",
     "start_time": "2025-04-11T12:26:47.558734Z"
    }
   },
   "cell_type": "code",
   "source": [
    "path = \"/api/events/\"\n",
    "create_endpoint = baseurl + path\n",
    "\n",
    "response = requests.post(create_endpoint, json={\"page\": \"/test+\"})\n",
    "print(\"OK\", response.ok)\n",
    "\n",
    "if response.ok:\n",
    "    print(response.json())\n",
    "else:\n",
    "    print(response.text)"
   ],
   "id": "1dd2cd31962004a4",
   "outputs": [
    {
     "name": "stdout",
     "output_type": "stream",
     "text": [
      "OK True\n",
      "{'id': 123, 'page': '/test+', 'description': 'My description'}\n"
     ]
    }
   ],
   "execution_count": 2
  },
  {
   "metadata": {
    "ExecuteTime": {
     "end_time": "2025-04-11T12:26:48.348831Z",
     "start_time": "2025-04-11T12:26:48.233259Z"
    }
   },
   "cell_type": "code",
   "source": [
    "detail_path = \"/api/events/12/\"\n",
    "detail_endpoint = baseurl + detail_path\n",
    "\n",
    "response = requests.put(detail_endpoint, json={\"description\":  \"Hello World!\"})\n",
    "print(\"OK\", response.ok)\n",
    "\n",
    "if response.ok:\n",
    "    print(response.json())\n",
    "else:\n",
    "    print(response.text)"
   ],
   "id": "a8da05b2b9f97c96",
   "outputs": [
    {
     "name": "stdout",
     "output_type": "stream",
     "text": [
      "OK True\n",
      "{'id': 12, 'page': '', 'description': 'Hello World!'}\n"
     ]
    }
   ],
   "execution_count": 3
  }
 ],
 "metadata": {
  "kernelspec": {
   "name": "python3",
   "language": "python",
   "display_name": "Python 3 (ipykernel)"
  }
 },
 "nbformat": 5,
 "nbformat_minor": 9
}
