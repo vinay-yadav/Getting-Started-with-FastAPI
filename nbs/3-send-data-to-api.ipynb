{
 "cells": [
  {
   "metadata": {
    "ExecuteTime": {
     "end_time": "2025-04-11T18:56:34.212137Z",
     "start_time": "2025-04-11T18:56:34.207613Z"
    }
   },
   "cell_type": "code",
   "source": [
    "import requests\n",
    "\n",
    "baseurl = \"http://localhost:8002\""
   ],
   "id": "8b8757dbd3f6caa2",
   "outputs": [],
   "execution_count": 2
  },
  {
   "metadata": {
    "ExecuteTime": {
     "end_time": "2025-04-11T18:56:52.700289Z",
     "start_time": "2025-04-11T18:56:52.654129Z"
    }
   },
   "cell_type": "code",
   "source": [
    "path = \"/api/events/\"\n",
    "create_endpoint = baseurl + path\n",
    "\n",
    "response = requests.post(create_endpoint, json={\"page\": \"/test+\"})\n",
    "print(\"OK\", response.ok, response.status_code)\n",
    "\n",
    "if response.ok:\n",
    "    print(response.json())\n",
    "else:\n",
    "    print(response.text)"
   ],
   "id": "1dd2cd31962004a4",
   "outputs": [
    {
     "name": "stdout",
     "output_type": "stream",
     "text": [
      "OK True 200\n",
      "{'description': 'My description', 'page': '/test+', 'id': 10}\n"
     ]
    }
   ],
   "execution_count": 3
  },
  {
   "metadata": {
    "ExecuteTime": {
     "end_time": "2025-04-11T19:00:43.362947Z",
     "start_time": "2025-04-11T19:00:43.232330Z"
    }
   },
   "cell_type": "code",
   "source": [
    "detail_path = \"/api/events/10/\"\n",
    "detail_endpoint = baseurl + detail_path\n",
    "\n",
    "response = requests.put(detail_endpoint, json={\"description\":  \"Hello World!\"})\n",
    "print(\"OK\", response.ok)\n",
    "\n",
    "if response.ok:\n",
    "    print(response.json())\n",
    "else:\n",
    "    print(response.text)"
   ],
   "id": "a8da05b2b9f97c96",
   "outputs": [
    {
     "name": "stdout",
     "output_type": "stream",
     "text": [
      "OK True\n",
      "{'description': 'Hello World!', 'page': '', 'id': 10}\n"
     ]
    }
   ],
   "execution_count": 4
  }
 ],
 "metadata": {
  "kernelspec": {
   "name": "python3",
   "language": "python",
   "display_name": "Python 3 (ipykernel)"
  }
 },
 "nbformat": 5,
 "nbformat_minor": 9
}
