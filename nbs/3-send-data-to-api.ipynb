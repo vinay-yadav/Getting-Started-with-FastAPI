{
 "cells": [
  {
   "metadata": {
    "ExecuteTime": {
     "end_time": "2025-04-10T17:02:17.604909Z",
     "start_time": "2025-04-10T17:02:17.592385Z"
    }
   },
   "cell_type": "code",
   "source": [
    "import requests\n",
    "\n",
    "baseurl = \"http://localhost:8002\"\n",
    "path = \"/api/events/\"\n",
    "\n",
    "endpoint = baseurl + path\n",
    "endpoint"
   ],
   "id": "8b8757dbd3f6caa2",
   "outputs": [
    {
     "data": {
      "text/plain": [
       "'http://localhost:8002/api/events/'"
      ]
     },
     "execution_count": 26,
     "metadata": {},
     "output_type": "execute_result"
    }
   ],
   "execution_count": 26
  },
  {
   "metadata": {
    "ExecuteTime": {
     "end_time": "2025-04-10T17:02:17.645854Z",
     "start_time": "2025-04-10T17:02:17.631426Z"
    }
   },
   "cell_type": "code",
   "source": [
    "data = {\"page\": \"/test+\"}\n",
    "headers = {\"Content-Type\": \"application/json\"}\n",
    "\n",
    "response = requests.post(endpoint, json=data, headers=headers)\n",
    "print(\"OK\", response.ok)"
   ],
   "id": "1dd2cd31962004a4",
   "outputs": [
    {
     "name": "stdout",
     "output_type": "stream",
     "text": [
      "OK True\n"
     ]
    }
   ],
   "execution_count": 27
  },
  {
   "metadata": {
    "ExecuteTime": {
     "end_time": "2025-04-10T17:02:17.684031Z",
     "start_time": "2025-04-10T17:02:17.678277Z"
    }
   },
   "cell_type": "code",
   "source": [
    "if response.ok:\n",
    "    print(response.json())\n",
    "else:\n",
    "    print(response.text)"
   ],
   "id": "d0a0235b920fd2ef",
   "outputs": [
    {
     "name": "stdout",
     "output_type": "stream",
     "text": [
      "{'id': 123}\n"
     ]
    }
   ],
   "execution_count": 28
  },
  {
   "metadata": {
    "ExecuteTime": {
     "end_time": "2025-04-10T17:02:17.825535Z",
     "start_time": "2025-04-10T17:02:17.716674Z"
    }
   },
   "cell_type": "code",
   "source": [
    "detail_path = \"/api/events/12/\"\n",
    "detail_endpoint = baseurl + detail_path\n",
    "\n",
    "response = requests.put(detail_endpoint, json={\"description\":  \"Hello World!\"})\n",
    "print(\"OK\", response.ok)\n",
    "\n",
    "if response.ok:\n",
    "    print(response.json())\n",
    "else:\n",
    "    print(response.text)"
   ],
   "id": "a8da05b2b9f97c96",
   "outputs": [
    {
     "name": "stdout",
     "output_type": "stream",
     "text": [
      "OK True\n",
      "{'id': 12}\n"
     ]
    }
   ],
   "execution_count": 29
  }
 ],
 "metadata": {
  "kernelspec": {
   "name": "python3",
   "language": "python",
   "display_name": "Python 3 (ipykernel)"
  }
 },
 "nbformat": 5,
 "nbformat_minor": 9
}
