{
 "cells": [
  {
   "metadata": {
    "ExecuteTime": {
     "end_time": "2025-04-11T19:10:17.942497Z",
     "start_time": "2025-04-11T19:10:17.936544Z"
    }
   },
   "cell_type": "code",
   "source": [
    "import requests\n",
    "\n",
    "baseurl = \"http://localhost:8002\""
   ],
   "id": "8b8757dbd3f6caa2",
   "outputs": [],
   "execution_count": 5
  },
  {
   "metadata": {
    "ExecuteTime": {
     "end_time": "2025-04-11T19:14:54.537374Z",
     "start_time": "2025-04-11T19:14:54.497028Z"
    }
   },
   "cell_type": "code",
   "source": [
    "path = \"/api/events/\"\n",
    "create_endpoint = baseurl + path\n",
    "\n",
    "response = requests.post(create_endpoint, json={\"page\": \"/test+\"})\n",
    "print(\"OK\", response.ok, response.status_code)\n",
    "\n",
    "if response.ok:\n",
    "    print(response.json())\n",
    "else:\n",
    "    print(response.text)"
   ],
   "id": "1dd2cd31962004a4",
   "outputs": [
    {
     "name": "stdout",
     "output_type": "stream",
     "text": [
      "OK True 200\n",
      "{'page': '/test+', 'created_at': '2025-04-11T19:14:54.519165Z', 'updated_at': '2025-04-11T19:14:54.519171Z', 'id': 1, 'description': 'My description'}\n"
     ]
    }
   ],
   "execution_count": 7
  },
  {
   "metadata": {
    "ExecuteTime": {
     "end_time": "2025-04-11T19:15:08.044059Z",
     "start_time": "2025-04-11T19:15:07.921489Z"
    }
   },
   "cell_type": "code",
   "source": [
    "detail_path = \"/api/events/1/\"\n",
    "detail_endpoint = baseurl + detail_path\n",
    "\n",
    "response = requests.put(detail_endpoint, json={\"description\":  \"Hello World!\"})\n",
    "print(\"OK\", response.ok)\n",
    "\n",
    "if response.ok:\n",
    "    print(response.json())\n",
    "else:\n",
    "    print(response.text)"
   ],
   "id": "a8da05b2b9f97c96",
   "outputs": [
    {
     "name": "stdout",
     "output_type": "stream",
     "text": [
      "OK True\n",
      "{'page': '', 'created_at': '2025-04-11T19:14:54.519165Z', 'updated_at': '2025-04-11T19:15:07.985126Z', 'id': 1, 'description': 'Hello World!'}\n"
     ]
    }
   ],
   "execution_count": 8
  }
 ],
 "metadata": {
  "kernelspec": {
   "name": "python3",
   "language": "python",
   "display_name": "Python 3 (ipykernel)"
  }
 },
 "nbformat": 5,
 "nbformat_minor": 9
}
