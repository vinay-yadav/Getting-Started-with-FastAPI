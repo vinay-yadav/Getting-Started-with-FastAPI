{
 "cells": [
  {
   "metadata": {
    "ExecuteTime": {
     "end_time": "2025-04-08T17:38:01.635836Z",
     "start_time": "2025-04-08T17:38:01.629410Z"
    }
   },
   "cell_type": "code",
   "source": [
    "from zoneinfo import reset_tzpath\n",
    "\n",
    "import requests\n",
    "baseurl = \"http://localhost:8002\"\n",
    "path = \"/api/events\"\n",
    "\n",
    "endpoint = baseurl + path\n",
    "endpoint"
   ],
   "id": "8b8757dbd3f6caa2",
   "outputs": [
    {
     "data": {
      "text/plain": [
       "'http://localhost:8002/api/events'"
      ]
     },
     "execution_count": 23,
     "metadata": {},
     "output_type": "execute_result"
    }
   ],
   "execution_count": 23
  },
  {
   "metadata": {
    "ExecuteTime": {
     "end_time": "2025-04-08T17:38:01.761501Z",
     "start_time": "2025-04-08T17:38:01.657605Z"
    }
   },
   "cell_type": "code",
   "source": [
    "data = {\"page\": \"/test+\"}\n",
    "headers = {\"Content-Type\": \"application/json\"}\n",
    "\n",
    "response = requests.post(endpoint, json=data, headers=headers)\n",
    "print(\"OK\", response.ok)"
   ],
   "id": "1dd2cd31962004a4",
   "outputs": [
    {
     "name": "stdout",
     "output_type": "stream",
     "text": [
      "OK True\n"
     ]
    }
   ],
   "execution_count": 24
  },
  {
   "metadata": {
    "ExecuteTime": {
     "end_time": "2025-04-08T17:38:01.783637Z",
     "start_time": "2025-04-08T17:38:01.779385Z"
    }
   },
   "cell_type": "code",
   "source": [
    "if response.ok:\n",
    "    print(response.json())\n",
    "else:\n",
    "    print(response.text)"
   ],
   "id": "d0a0235b920fd2ef",
   "outputs": [
    {
     "name": "stdout",
     "output_type": "stream",
     "text": [
      "{'id': 123}\n"
     ]
    }
   ],
   "execution_count": 25
  },
  {
   "metadata": {
    "ExecuteTime": {
     "end_time": "2025-04-08T17:38:01.843737Z",
     "start_time": "2025-04-08T17:38:01.840687Z"
    }
   },
   "cell_type": "code",
   "source": "",
   "id": "a8da05b2b9f97c96",
   "outputs": [],
   "execution_count": null
  }
 ],
 "metadata": {
  "kernelspec": {
   "name": "python3",
   "language": "python",
   "display_name": "Python 3 (ipykernel)"
  }
 },
 "nbformat": 5,
 "nbformat_minor": 9
}
