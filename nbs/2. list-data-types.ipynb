{
 "cells": [
  {
   "metadata": {
    "ExecuteTime": {
     "end_time": "2025-04-08T17:28:02.895736Z",
     "start_time": "2025-04-08T17:28:02.271658Z"
    }
   },
   "cell_type": "code",
   "source": [
    "from zoneinfo import reset_tzpath\n",
    "\n",
    "import requests\n",
    "baseurl = \"http://localhost:8002\"\n",
    "path = \"/api/events\"\n",
    "\n",
    "endpoint = baseurl + path\n",
    "endpoint"
   ],
   "id": "8b8757dbd3f6caa2",
   "outputs": [
    {
     "data": {
      "text/plain": [
       "'http://localhost:8002/api/events'"
      ]
     },
     "execution_count": 1,
     "metadata": {},
     "output_type": "execute_result"
    }
   ],
   "execution_count": 1
  },
  {
   "metadata": {
    "ExecuteTime": {
     "end_time": "2025-04-08T17:28:02.981229Z",
     "start_time": "2025-04-08T17:28:02.907169Z"
    }
   },
   "cell_type": "code",
   "source": [
    "response = requests.get(endpoint)\n",
    "response.ok"
   ],
   "id": "1dd2cd31962004a4",
   "outputs": [
    {
     "data": {
      "text/plain": [
       "True"
      ]
     },
     "execution_count": 2,
     "metadata": {},
     "output_type": "execute_result"
    }
   ],
   "execution_count": 2
  },
  {
   "metadata": {
    "ExecuteTime": {
     "end_time": "2025-04-08T17:28:03.167703Z",
     "start_time": "2025-04-08T17:28:03.162883Z"
    }
   },
   "cell_type": "code",
   "source": [
    "if response.ok:\n",
    "    print(response.json())"
   ],
   "id": "d0a0235b920fd2ef",
   "outputs": [
    {
     "name": "stdout",
     "output_type": "stream",
     "text": [
      "{'results': [{'id': 1}, {'id': 2}, {'id': 3}], 'count': 3}\n"
     ]
    }
   ],
   "execution_count": 3
  },
  {
   "metadata": {
    "ExecuteTime": {
     "end_time": "2025-04-08T17:28:03.214881Z",
     "start_time": "2025-04-08T17:28:03.210742Z"
    }
   },
   "cell_type": "code",
   "source": "",
   "id": "a8da05b2b9f97c96",
   "outputs": [],
   "execution_count": null
  }
 ],
 "metadata": {
  "kernelspec": {
   "name": "python3",
   "language": "python",
   "display_name": "Python 3 (ipykernel)"
  }
 },
 "nbformat": 5,
 "nbformat_minor": 9
}
