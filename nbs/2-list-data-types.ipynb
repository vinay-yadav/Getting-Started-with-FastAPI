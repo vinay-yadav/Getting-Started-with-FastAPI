{
 "cells": [
  {
   "metadata": {
    "ExecuteTime": {
     "end_time": "2025-04-11T13:26:13.505306Z",
     "start_time": "2025-04-11T13:26:13.498725Z"
    }
   },
   "cell_type": "code",
   "source": [
    "import requests\n",
    "from pprint import pprint\n",
    "\n",
    "baseurl = \"http://localhost:8002\"\n",
    "path = \"/api/events\"\n",
    "\n",
    "endpoint = baseurl + path\n",
    "endpoint"
   ],
   "id": "8b8757dbd3f6caa2",
   "outputs": [
    {
     "data": {
      "text/plain": [
       "'http://localhost:8002/api/events'"
      ]
     },
     "execution_count": 7,
     "metadata": {},
     "output_type": "execute_result"
    }
   ],
   "execution_count": 7
  },
  {
   "metadata": {
    "ExecuteTime": {
     "end_time": "2025-04-11T13:26:13.666267Z",
     "start_time": "2025-04-11T13:26:13.585113Z"
    }
   },
   "cell_type": "code",
   "source": [
    "response = requests.get(endpoint)\n",
    "response.ok"
   ],
   "id": "1dd2cd31962004a4",
   "outputs": [
    {
     "data": {
      "text/plain": [
       "True"
      ]
     },
     "execution_count": 8,
     "metadata": {},
     "output_type": "execute_result"
    }
   ],
   "execution_count": 8
  },
  {
   "metadata": {
    "ExecuteTime": {
     "end_time": "2025-04-11T13:26:13.753335Z",
     "start_time": "2025-04-11T13:26:13.748089Z"
    }
   },
   "cell_type": "code",
   "source": [
    "if response.ok:\n",
    "    data = response.json()\n",
    "    pprint(data)"
   ],
   "id": "d0a0235b920fd2ef",
   "outputs": [
    {
     "name": "stdout",
     "output_type": "stream",
     "text": [
      "{'count': 9,\n",
      " 'results': [{'description': 'My description', 'id': 9, 'page': '/test+'},\n",
      "             {'description': 'My description', 'id': 8, 'page': '/test+'},\n",
      "             {'description': 'My description', 'id': 7, 'page': '/test+'},\n",
      "             {'description': 'My description', 'id': 6, 'page': '/test+'},\n",
      "             {'description': 'My description', 'id': 5, 'page': '/test+'},\n",
      "             {'description': 'My description', 'id': 4, 'page': '/test+'},\n",
      "             {'description': 'My description', 'id': 3, 'page': '/test+'},\n",
      "             {'description': 'My description', 'id': 2, 'page': '/test+'},\n",
      "             {'description': 'My description', 'id': 1, 'page': '/test+'}]}\n"
     ]
    }
   ],
   "execution_count": 9
  },
  {
   "metadata": {
    "ExecuteTime": {
     "end_time": "2025-04-11T13:26:13.779719Z",
     "start_time": "2025-04-11T13:26:13.775902Z"
    }
   },
   "cell_type": "code",
   "source": "",
   "id": "a8da05b2b9f97c96",
   "outputs": [],
   "execution_count": null
  }
 ],
 "metadata": {
  "kernelspec": {
   "name": "python3",
   "language": "python",
   "display_name": "Python 3 (ipykernel)"
  }
 },
 "nbformat": 5,
 "nbformat_minor": 9
}
