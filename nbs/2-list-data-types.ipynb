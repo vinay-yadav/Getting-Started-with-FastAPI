{
 "cells": [
  {
   "metadata": {
    "ExecuteTime": {
     "end_time": "2025-04-11T18:50:04.008796Z",
     "start_time": "2025-04-11T18:50:03.372519Z"
    }
   },
   "cell_type": "code",
   "source": [
    "import requests\n",
    "from pprint import pprint\n",
    "\n",
    "baseurl = \"http://localhost:8002\""
   ],
   "id": "8b8757dbd3f6caa2",
   "outputs": [
    {
     "data": {
      "text/plain": [
       "'http://localhost:8002/api/events'"
      ]
     },
     "execution_count": 1,
     "metadata": {},
     "output_type": "execute_result"
    }
   ],
   "execution_count": 1
  },
  {
   "metadata": {
    "ExecuteTime": {
     "end_time": "2025-04-11T19:00:47.628466Z",
     "start_time": "2025-04-11T19:00:47.562375Z"
    }
   },
   "cell_type": "code",
   "source": [
    "path = \"/api/events\"\n",
    "endpoint = baseurl + path\n",
    "\n",
    "response = requests.get(endpoint)\n",
    "\n",
    "if response.ok:\n",
    "    data = response.json()\n",
    "    pprint(data)"
   ],
   "id": "d0a0235b920fd2ef",
   "outputs": [
    {
     "name": "stdout",
     "output_type": "stream",
     "text": [
      "{'count': 10,\n",
      " 'results': [{'description': 'Hello World!', 'id': 10, 'page': ''},\n",
      "             {'description': 'My description', 'id': 9, 'page': '/test+'},\n",
      "             {'description': 'My description', 'id': 8, 'page': '/test+'},\n",
      "             {'description': 'My description', 'id': 7, 'page': '/test+'},\n",
      "             {'description': 'My description', 'id': 6, 'page': '/test+'},\n",
      "             {'description': 'My description', 'id': 5, 'page': '/test+'},\n",
      "             {'description': 'My description', 'id': 4, 'page': '/test+'},\n",
      "             {'description': 'My description', 'id': 3, 'page': '/test+'},\n",
      "             {'description': 'My description', 'id': 2, 'page': '/test+'},\n",
      "             {'description': 'My description', 'id': 1, 'page': '/test+'}]}\n"
     ]
    }
   ],
   "execution_count": 8
  },
  {
   "metadata": {
    "ExecuteTime": {
     "end_time": "2025-04-11T18:53:29.316315Z",
     "start_time": "2025-04-11T18:53:29.244990Z"
    }
   },
   "cell_type": "code",
   "source": [
    "detail_path = \"/api/events/20/\"\n",
    "\n",
    "detail_endpoint = baseurl + detail_path\n",
    "\n",
    "response = requests.get(detail_endpoint)\n",
    "\n",
    "if response.ok:\n",
    "    pprint(response.json())"
   ],
   "id": "a8da05b2b9f97c96",
   "outputs": [],
   "execution_count": 6
  }
 ],
 "metadata": {
  "kernelspec": {
   "name": "python3",
   "language": "python",
   "display_name": "Python 3 (ipykernel)"
  }
 },
 "nbformat": 5,
 "nbformat_minor": 9
}
