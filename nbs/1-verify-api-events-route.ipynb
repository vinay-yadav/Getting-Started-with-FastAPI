{
 "cells": [
  {
   "metadata": {
    "ExecuteTime": {
     "end_time": "2025-04-08T17:15:57.021978Z",
     "start_time": "2025-04-08T17:15:57.015602Z"
    }
   },
   "cell_type": "code",
   "source": [
    "from zoneinfo import reset_tzpath\n",
    "\n",
    "import requests\n",
    "baseurl = \"http://localhost:8002\"\n",
    "path = \"/api/events/12\"\n",
    "\n",
    "endpoint = baseurl + path\n",
    "endpoint"
   ],
   "id": "8b8757dbd3f6caa2",
   "outputs": [
    {
     "data": {
      "text/plain": [
       "'http://localhost:8002/api/events/12'"
      ]
     },
     "execution_count": 10,
     "metadata": {},
     "output_type": "execute_result"
    }
   ],
   "execution_count": 10
  },
  {
   "metadata": {
    "ExecuteTime": {
     "end_time": "2025-04-08T17:15:58.772714Z",
     "start_time": "2025-04-08T17:15:58.749492Z"
    }
   },
   "cell_type": "code",
   "source": [
    "response = requests.get(endpoint)\n",
    "response.ok"
   ],
   "id": "1dd2cd31962004a4",
   "outputs": [
    {
     "data": {
      "text/plain": [
       "True"
      ]
     },
     "execution_count": 11,
     "metadata": {},
     "output_type": "execute_result"
    }
   ],
   "execution_count": 11
  },
  {
   "metadata": {
    "ExecuteTime": {
     "end_time": "2025-04-08T17:16:01.862379Z",
     "start_time": "2025-04-08T17:16:01.857622Z"
    }
   },
   "cell_type": "code",
   "source": [
    "if response.ok:\n",
    "    print(response.json())"
   ],
   "id": "d0a0235b920fd2ef",
   "outputs": [
    {
     "name": "stdout",
     "output_type": "stream",
     "text": [
      "{'id': 12}\n"
     ]
    }
   ],
   "execution_count": 12
  },
  {
   "metadata": {},
   "cell_type": "code",
   "outputs": [],
   "execution_count": null,
   "source": "",
   "id": "a8da05b2b9f97c96"
  }
 ],
 "metadata": {
  "kernelspec": {
   "name": "python3",
   "language": "python",
   "display_name": "Python 3 (ipykernel)"
  }
 },
 "nbformat": 5,
 "nbformat_minor": 9
}
