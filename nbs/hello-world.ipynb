{
 "cells": [
  {
   "metadata": {
    "ExecuteTime": {
     "end_time": "2025-04-07T17:15:28.907Z",
     "start_time": "2025-04-07T17:15:28.901439Z"
    }
   },
   "cell_type": "code",
   "source": "print(\"Hello world\")",
   "id": "ad23647066f66a74",
   "outputs": [
    {
     "name": "stdout",
     "output_type": "stream",
     "text": [
      "Hello world\n"
     ]
    }
   ],
   "execution_count": 3
  },
  {
   "metadata": {
    "ExecuteTime": {
     "end_time": "2025-04-07T17:17:11.509652Z",
     "start_time": "2025-04-07T17:17:10.729667Z"
    }
   },
   "cell_type": "code",
   "source": "import requests",
   "id": "12d02a6bdf814c65",
   "outputs": [],
   "execution_count": 4
  },
  {
   "metadata": {
    "ExecuteTime": {
     "end_time": "2025-04-07T17:23:02.673813Z",
     "start_time": "2025-04-07T17:23:02.669133Z"
    }
   },
   "cell_type": "code",
   "source": [
    "baseurl = \"http://localhost:8002\"\n",
    "path = \"/healthzabc\"\n",
    "\n",
    "endpoint = baseurl + path"
   ],
   "id": "a3d652917919d30c",
   "outputs": [],
   "execution_count": 13
  },
  {
   "metadata": {
    "ExecuteTime": {
     "end_time": "2025-04-07T17:23:04.611486Z",
     "start_time": "2025-04-07T17:23:04.599776Z"
    }
   },
   "cell_type": "code",
   "source": [
    "response = requests.get(endpoint)\n",
    "print(response.ok)"
   ],
   "id": "a5c202b7f77da598",
   "outputs": [
    {
     "name": "stdout",
     "output_type": "stream",
     "text": [
      "False\n"
     ]
    }
   ],
   "execution_count": 14
  },
  {
   "metadata": {
    "ExecuteTime": {
     "end_time": "2025-04-07T17:22:49.455179Z",
     "start_time": "2025-04-07T17:22:49.452495Z"
    }
   },
   "cell_type": "code",
   "source": "",
   "id": "2b6a7c68960778d3",
   "outputs": [],
   "execution_count": null
  },
  {
   "metadata": {},
   "cell_type": "code",
   "outputs": [],
   "execution_count": null,
   "source": "",
   "id": "9d2c2f6255fd9300"
  }
 ],
 "metadata": {
  "kernelspec": {
   "name": "python3",
   "language": "python",
   "display_name": "Python 3 (ipykernel)"
  }
 },
 "nbformat": 5,
 "nbformat_minor": 9
}
